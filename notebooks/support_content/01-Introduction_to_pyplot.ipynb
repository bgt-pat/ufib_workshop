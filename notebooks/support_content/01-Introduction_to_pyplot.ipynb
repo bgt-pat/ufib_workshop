{
 "cells": [
  {
   "cell_type": "markdown",
   "metadata": {},
   "source": [
    "# Introduction to pyplot\n",
    "\n",
    "In this notebook we take a quick look at:\n",
    "\n",
    "* plotting data\n",
    "* adjusting the markers, labels and fontsize of plots"
   ]
  },
  {
   "cell_type": "markdown",
   "metadata": {},
   "source": [
    "## Preamble\n",
    "\n",
    "The first step is to instruct Jupyter to show plots inline (within the notebook) and then import the functions from `numpy` and `matplotlib.pyplot` library routines:"
   ]
  },
  {
   "cell_type": "code",
   "execution_count": null,
   "metadata": {},
   "outputs": [],
   "source": [
    "%matplotlib inline\n",
    "import numpy as np\n",
    "import matplotlib.pyplot as plt"
   ]
  },
  {
   "cell_type": "markdown",
   "metadata": {},
   "source": [
    "## Simple plotting\n",
    "\n",
    "An introduction to Matplotlib can also be found [here](https://matplotlib.org/users/intro.html) that links to a [pyplot tutorial](https://matplotlib.org/tutorials/introductory/pyplot.html#sphx-glr-tutorials-introductory-pyplot-py). We will just repeat some of the basics.\n",
    "\n",
    "### Plotting data\n",
    "\n",
    "Say we want to plot some values `[1,4,9,16]`. This can be done simply using the following commands:\n"
   ]
  },
  {
   "cell_type": "code",
   "execution_count": null,
   "metadata": {},
   "outputs": [],
   "source": [
    "plt.plot([1,4,9,16])\n",
    "plt.ylabel(\"My data\")\n",
    "plt.show()"
   ]
  },
  {
   "cell_type": "markdown",
   "metadata": {},
   "source": [
    "You can notice that the y-axis values are in the range from 1-16, but the x-axis range goes from 0 to 3. When we provide only a single list to the `plot` function, pyplot assumes we have provided the y-values. It then automatically generates the x-values `[0,1,2,3]` for us (indexing starts with 0 in python). We can also provide the x-values ourselves:"
   ]
  },
  {
   "cell_type": "code",
   "execution_count": null,
   "metadata": {},
   "outputs": [],
   "source": [
    "plt.plot([1,2,3,4],[1,4,9,16])\n",
    "plt.ylabel(\"y-values\")\n",
    "plt.xlabel(\"x-values\")\n",
    "plt.show()"
   ]
  },
  {
   "cell_type": "markdown",
   "metadata": {},
   "source": [
    "Notice now that the ranges in both axes match the contents of our data. We can also adjust the viewport of the axes using the `axis()` function that takes the list of values `[xmin, xmax, ymin, ymax]`."
   ]
  },
  {
   "cell_type": "code",
   "execution_count": null,
   "metadata": {},
   "outputs": [],
   "source": [
    "plt.plot([1,2,3,4],[1,4,9,16])\n",
    "plt.ylabel(\"y-values\")\n",
    "plt.xlabel(\"x-values\")\n",
    "plt.axis([0,5,0,20])\n",
    "plt.show()"
   ]
  },
  {
   "cell_type": "markdown",
   "metadata": {},
   "source": [
    "## Markers, labels and fontsize\n",
    "\n",
    "We can also try to style the plot with points instead of a solid line as follows:"
   ]
  },
  {
   "cell_type": "code",
   "execution_count": null,
   "metadata": {},
   "outputs": [],
   "source": [
    "plt.plot([1,2,3,4],[1,4,9,16],'o')\n",
    "plt.show()"
   ]
  },
  {
   "cell_type": "markdown",
   "metadata": {},
   "source": [
    "Other possible markers include triangles, squares, pentagons and other shapes defined [here](https://matplotlib.org/api/markers_api.html). Let's try to illustrate some of them using the monomials $x$, $x^2$ and $x^3$:"
   ]
  },
  {
   "cell_type": "code",
   "execution_count": null,
   "metadata": {},
   "outputs": [],
   "source": [
    "x = np.arange(0.,5.,0.2) # Evenly sampled x-values\n",
    "\n",
    "plt.plot(x,x**1,'v')\n",
    "plt.plot(x,x**2,'s')\n",
    "plt.plot(x,x**3,'p')\n",
    "plt.show()"
   ]
  },
  {
   "cell_type": "markdown",
   "metadata": {},
   "source": [
    "The plot above looks a bit empty. Let's add some axis labels and a legend for the data to make things more attractive:"
   ]
  },
  {
   "cell_type": "code",
   "execution_count": null,
   "metadata": {},
   "outputs": [],
   "source": [
    "plt.plot(x,x**1,'v',label=\"line\")\n",
    "plt.plot(x,x**2,'s',label=\"quadratic\")\n",
    "plt.plot(x,x**3,'p',label=\"cubic\")\n",
    "plt.xlabel(\"x-value\")\n",
    "plt.ylabel(\"y-value\")\n",
    "plt.legend()\n",
    "plt.show()"
   ]
  },
  {
   "cell_type": "markdown",
   "metadata": {},
   "source": [
    "If the labels look too small we can make them larger using the `fontsize` argument. We illustrate this on the cosine function."
   ]
  },
  {
   "cell_type": "code",
   "execution_count": null,
   "metadata": {},
   "outputs": [],
   "source": [
    "x = np.arange(0,2*np.pi,0.2)\n",
    "y = np.cos(x)\n",
    "\n",
    "plt.plot(x,y,'o-',label=\"cos(x)\") # note the solid line with markers here\n",
    "plt.xlabel(\"x\",fontsize=16)\n",
    "plt.ylabel(\"y\",fontsize=16)\n",
    "plt.legend(fontsize=16)\n",
    "plt.show()"
   ]
  },
  {
   "cell_type": "markdown",
   "metadata": {},
   "source": [
    "We can also plot data using different linestyles instead of just markers. The available linestyles include:\n",
    "* solid `'-'`\n",
    "* dashed `'--'`\n",
    "* dotted `':'`\n",
    "* dashed-dotted `'-.'`"
   ]
  },
  {
   "cell_type": "markdown",
   "metadata": {},
   "source": [
    "#### Exercise 1\n",
    "Try adding a dashed sine function to the plot shown above. Remember to also update the legend! (If you get stuck uncomment the command below and run it to load the solution.)"
   ]
  },
  {
   "cell_type": "code",
   "execution_count": null,
   "metadata": {},
   "outputs": [],
   "source": [
    "# %load solutions/exercise1.py\n",
    "\n",
    "# ... insert your code here ..."
   ]
  },
  {
   "cell_type": "markdown",
   "metadata": {},
   "source": [
    "#### Exercise 2\n",
    "Make a plot of two Gaussian functions \n",
    "\n",
    "$$p(x)=\\frac{1}{\\sigma \\sqrt{2\\pi}} \\exp{\\left(-\\frac{1}{2}\\left(\\frac{x-\\mu}{\\sigma}\\right)^2\\right)}$$\n",
    "\n",
    "where the expectation value, $\\mu$, and variance, $\\sigma^2$, are given by the values $(2, 4)$ and $(4, 1)$. The x-axis should span the values $[-10,15)$. Remember to add axis labels and a legend to the plot. Use your own choice of markers and/or lines.\n",
    "\n",
    "An implementation of the Gaussian curve is already provided in the cell below (don't forget to run the cell before doing the exercise)."
   ]
  },
  {
   "cell_type": "code",
   "execution_count": null,
   "metadata": {},
   "outputs": [],
   "source": [
    "def gauss(x,mu=0.,var=1.):\n",
    "    \"\"\"Returns the value of the Gaussian function.\n",
    "\n",
    "    Parameters\n",
    "    ----------\n",
    "    x : float, array_like\n",
    "        The x-values we would like to evaluate the function at\n",
    "    mu : float\n",
    "        The expectation value. Defaults to 0.\n",
    "    var : float\n",
    "        The variance. Defaults to 1.\n",
    "\n",
    "    Returns\n",
    "    -------\n",
    "    float, array_like\n",
    "        The values of the Gaussian function.\n",
    "    \"\"\"\n",
    "    \n",
    "    return np.exp(-0.5*(x-mu)**2/var)/np.sqrt(var*2*np.pi)"
   ]
  },
  {
   "cell_type": "code",
   "execution_count": null,
   "metadata": {},
   "outputs": [],
   "source": [
    "# %load solutions/exercise2.py\n",
    "x = np.arange(-10,15,0.1)\n",
    "\n",
    "g1 = gauss(x,2,4)\n",
    "g2 = gauss(x,4,1)\n",
    "\n",
    "plt.plot(x,g1,'-',label=r\"$\\mu = 2,\\sigma^2 = 4$\")\n",
    "plt.plot(x,g2,'--',label=r\"$\\mu = 4,\\sigma^2 = 1$\")\n",
    "plt.xlabel(\"x\",fontsize=14)\n",
    "plt.ylabel(\"p(x)\",fontsize=14)\n",
    "plt.legend(fontsize=14)\n",
    "plt.show()"
   ]
  },
  {
   "cell_type": "markdown",
   "metadata": {},
   "source": [
    "## Advanced plotting\n",
    "\n",
    "A more advanced way of using matplotlib is via the application programming interface (API) described in more detail [here](https://matplotlib.org/tutorials/intermediate/artists.html#sphx-glr-tutorials-intermediate-artists-py).\n",
    "\n",
    "For a quick overview of other matplotlib plotting capabilities follow this [link](https://matplotlib.org/gallery/index.html)."
   ]
  }
 ],
 "metadata": {
  "kernelspec": {
   "display_name": "Python 3",
   "language": "python",
   "name": "python3"
  },
  "language_info": {
   "codemirror_mode": {
    "name": "ipython",
    "version": 3
   },
   "file_extension": ".py",
   "mimetype": "text/x-python",
   "name": "python",
   "nbconvert_exporter": "python",
   "pygments_lexer": "ipython3",
   "version": "3.5.2"
  }
 },
 "nbformat": 4,
 "nbformat_minor": 2
}
