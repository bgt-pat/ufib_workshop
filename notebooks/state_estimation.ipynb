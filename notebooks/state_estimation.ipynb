{
 "cells": [
  {
   "cell_type": "markdown",
   "metadata": {},
   "source": [
    "# State estimation using Kalman filtering\n",
    "\n",
    "This notebook will be your playground for the next few hours, where you try to develop your own Kalman filter and complete the tasks set in the script.\n",
    "\n",
    "You should begin by importing the `numpy` and `pyplot` packages (these are needed for array operations and plotting). Give Jupyter the magic command `%matplotlib inline` in order to embed the produced plots in the notebook. "
   ]
  },
  {
   "cell_type": "code",
   "execution_count": null,
   "metadata": {},
   "outputs": [],
   "source": [
    "# solutions/preamble.py"
   ]
  },
  {
   "cell_type": "markdown",
   "metadata": {},
   "source": [
    "Now we are ready to rock and roll!\n",
    "\n",
    "## Task 1 - Reading and preprocessing the temperature data\n",
    "\n",
    "The data are is stored in the files `example1.txt` and `example2.txt`. You can have a look at the contents of these files using a text processor like notepad.\n",
    "\n",
    "We need to load the data into our notebook. There are multiple ways to perform this. Some possibilities are:\n",
    "1. Use the `open()` statement and write your own line parser.\n",
    "2. Use the `np.loadtxt()` function.\n",
    "3. Import the data into a pandas dataframe."
   ]
  },
  {
   "cell_type": "code",
   "execution_count": null,
   "metadata": {},
   "outputs": [],
   "source": [
    "# solutions/pandas.py"
   ]
  },
  {
   "cell_type": "markdown",
   "metadata": {},
   "source": [
    "So you've got the data in the notebook. Now you should do the time conversion from the `YYYY-MM-DD HH:MM:SS` format to total elapsed seconds since the beginning. Don't forget to convert the temperature values to K."
   ]
  },
  {
   "cell_type": "code",
   "execution_count": null,
   "metadata": {},
   "outputs": [],
   "source": [
    "# solutions/time_to_seconds.py"
   ]
  },
  {
   "cell_type": "markdown",
   "metadata": {},
   "source": [
    "To make sure we've done things right, plot the imported temperature measurements vs time. The total batch run should be slightly less than 90 hours long. Do the temperature values look ok? You can find a notebook on plotting basics in the support content folder."
   ]
  },
  {
   "cell_type": "code",
   "execution_count": null,
   "metadata": {},
   "outputs": [],
   "source": [
    "# solutions/plot_raw_measurements.py"
   ]
  },
  {
   "cell_type": "markdown",
   "metadata": {},
   "source": [
    "## Task 2 - Setting up the process matrices"
   ]
  },
  {
   "cell_type": "markdown",
   "metadata": {},
   "source": [
    "It is now time to write the process and measurement equations in linear state-space form. \n",
    "\n"
   ]
  },
  {
   "cell_type": "code",
   "execution_count": null,
   "metadata": {},
   "outputs": [],
   "source": []
  },
  {
   "cell_type": "markdown",
   "metadata": {},
   "source": [
    "### State-to-state matrix or process matrix"
   ]
  },
  {
   "cell_type": "code",
   "execution_count": null,
   "metadata": {},
   "outputs": [],
   "source": [
    "# solutions/state_to_state.py"
   ]
  },
  {
   "cell_type": "markdown",
   "metadata": {},
   "source": [
    "### Input-to-state matrix\n",
    "\n",
    "For the moment let's just neglect all of the inputs. While this is physically incorrect it simplifies things and helps us focus on the Kalman filter. Simply fill the input-to-state matrix $B$ with zeros and put zeros in the input vector $u$. You can use the numpy function `np.zeros()` to do this (or just insert the values one by one)."
   ]
  },
  {
   "cell_type": "code",
   "execution_count": null,
   "metadata": {},
   "outputs": [],
   "source": [
    "# solutions/input_to_state.py"
   ]
  },
  {
   "cell_type": "markdown",
   "metadata": {},
   "source": [
    "### Measurement matrix\n",
    "\n",
    "Assume for the moment you have a single temperature sensor $T_1$. The measurement equations is given by $$ y = Cx,$$ where $x = \\begin{bmatrix}T & T_j\\end{bmatrix}^T$ for our simple example. Fill in the values of $C$."
   ]
  },
  {
   "cell_type": "code",
   "execution_count": null,
   "metadata": {},
   "outputs": [],
   "source": [
    "# %load solutions/measurement_matrix.py"
   ]
  },
  {
   "cell_type": "markdown",
   "metadata": {},
   "source": [
    "### Process and measurement noise\n",
    "\n",
    "Something we haven't discussed yet is the role of noise in the Kalman filter. \n",
    "\n",
    "The measurement noise is fairly understandable. We assume at each measurement update, that our sensor was perturbed by white noise according to the sensor variance."
   ]
  },
  {
   "cell_type": "code",
   "execution_count": null,
   "metadata": {},
   "outputs": [],
   "source": [
    "# Process noise\n",
    "evolution_noise = 0.01\n",
    "Q = evolution_noise*np.eye(2)"
   ]
  },
  {
   "cell_type": "code",
   "execution_count": null,
   "metadata": {},
   "outputs": [],
   "source": [
    "# Individual temperature sensor variances\n",
    "vt1 = 1.63537548\n",
    "vt2 = 0.13440874\n",
    "vt3 = 0.12293816\n",
    "\n",
    "# Measurement noise\n",
    "R = np.diag([vt1,vt2,vt3])"
   ]
  },
  {
   "cell_type": "markdown",
   "metadata": {},
   "source": [
    "## Task 3 - Implementing the Kalman filter"
   ]
  },
  {
   "cell_type": "code",
   "execution_count": null,
   "metadata": {},
   "outputs": [],
   "source": [
    "# solutions/kalman_filter.py\n",
    "\n",
    "def predict(x,u,A,B,P,Q):\n",
    "    \"\"\"\n",
    "    Prediction step of the Kalman filter\n",
    "    \n",
    "    Input:\n",
    "    x - state vector\n",
    "    u - input vector\n",
    "    A - process matrix\n",
    "    B - input-to-state matrix\n",
    "    P - state covariance matrix\n",
    "    Q - evolution noise\n",
    "    \n",
    "    Returns:\n",
    "    x - predicted state\n",
    "    P - predicted covariance\n",
    "    \"\"\"\n",
    "    return NotImplementedError()"
   ]
  },
  {
   "cell_type": "code",
   "execution_count": null,
   "metadata": {},
   "outputs": [],
   "source": [
    "def update(y,xpls,C,P,R):\n",
    "    \"\"\"\n",
    "    Update step of the Kalman filter\n",
    "    \n",
    "    Input:\n",
    "    y - measurement\n",
    "    xpls - predicted state\n",
    "    C - measurement matrix\n",
    "    P - covariance matrix\n",
    "    R - measurement noise\n",
    "    \n",
    "    Returns:\n",
    "    x - updated step after measurement\n",
    "    P - updated covariance\n",
    "    K - Kalman gain\n",
    "    \"\"\"\n",
    "    return NotImplementedError()"
   ]
  },
  {
   "cell_type": "markdown",
   "metadata": {},
   "source": [
    "## Task 4 - Filtering the measurement data"
   ]
  },
  {
   "cell_type": "code",
   "execution_count": null,
   "metadata": {},
   "outputs": [],
   "source": [
    "# Initial state guess\n",
    "x0 = np.array([15,-10])\n",
    "P = A.dot(5*np.eye(2).dot(A.T)) # not exactly sure how to set this...\n",
    "x = x0\n",
    "\n",
    "# Number of measurements\n",
    "imax = dataset.shape[0]\n",
    "\n",
    "# Prepare storage for filtered values\n",
    "filtered_vals = np.empty((imax,2))\n",
    "\n",
    "filtered_vals[0,:] = x0\n",
    "\n",
    "for i in range(imax):\n",
    "    \n",
    "    filtered_vals[i] = x\n",
    "    \n",
    "    xpls,P = predict(x=x,u=u,A=A,B=B,P=P,Q=Q)\n",
    "    \n",
    "    y = dataset.iloc[i,1:4].values\n",
    "    \n",
    "    x,P,K = update(y=y,xpls=xpls,C=C,P=P,R=R)\n",
    "    \n",
    "print(\"Filtering finished!\")"
   ]
  },
  {
   "cell_type": "markdown",
   "metadata": {},
   "source": [
    "Looking at the state variables they very quickly converge to the same value. This is a problem of our model, which assumes exponential decay to the same value. Essentially we are missing the source terms (coolant valve, external losses, heat coming from the aeration, and yeast metabolic heat), that add to the energy balance and make $T \\neq T_j$."
   ]
  },
  {
   "cell_type": "code",
   "execution_count": null,
   "metadata": {},
   "outputs": [],
   "source": [
    "ax = dataset.plot(x='hours',y=[r\"$T_1$\", r\"$T_2$\", r\"$T_3$\"])\n",
    "\n",
    "# add filtered stuff two plot\n",
    "ax.plot(dataset['hours'],filtered_vals[:,0],label=\"Reactor\")\n",
    "ax.plot(dataset['hours'],filtered_vals[:,1],label=\"Jacket\")\n",
    "ax.legend(loc=0) # update legend\n",
    "\n",
    "# make things look nice\n",
    "ax.set_xlabel(\"Time (h)\",fontsize=12)\n",
    "ax.set_ylabel(\"Temperature (°C)\",fontsize=12)\n",
    "ax.set_title(\"Filter works! Kind of.\",fontsize=12)\n",
    "\n",
    "ax.set_ylim([7,11]) # only look at first few hours\n",
    "\n",
    "plt.show()"
   ]
  }
 ],
 "metadata": {
  "kernelspec": {
   "display_name": "Python 3",
   "language": "python",
   "name": "python3"
  },
  "language_info": {
   "codemirror_mode": {
    "name": "ipython",
    "version": 3
   },
   "file_extension": ".py",
   "mimetype": "text/x-python",
   "name": "python",
   "nbconvert_exporter": "python",
   "pygments_lexer": "ipython3",
   "version": "3.7.3"
  }
 },
 "nbformat": 4,
 "nbformat_minor": 2
}
