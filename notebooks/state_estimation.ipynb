{
 "cells": [
  {
   "cell_type": "markdown",
   "metadata": {},
   "source": [
    "# State estimation using Kalman filtering\n",
    "\n",
    "This notebook will be your playground for the next few hours, where you try to develop your own Kalman filter and complete the tasks set in the script.\n",
    "\n",
    "You should begin by importing the `numpy` and `pyplot` packages (these are needed for array operations and plotting). Give Jupyter the magic command `%matplotlib inline` in order to embed the produced plots in the notebook. "
   ]
  },
  {
   "cell_type": "code",
   "execution_count": null,
   "metadata": {},
   "outputs": [],
   "source": [
    "# %load solutions/preamble.py"
   ]
  },
  {
   "cell_type": "markdown",
   "metadata": {},
   "source": [
    "Now we are ready to rock and roll!\n",
    "\n",
    "## Task 1 - Reading and preprocessing the temperature data\n",
    "\n",
    "The data are is stored in the files `example1.txt` and `example2.txt`. You can have a look at the contents of these files using a text processor like notepad.\n",
    "\n",
    "We need to load the data into our notebook. There are multiple ways to perform this. Some possibilities are:\n",
    "1. Use the `open()` statement and write your own line parser.\n",
    "2. Use the `np.loadtxt()` function.\n",
    "3. Import the data into a pandas dataframe."
   ]
  },
  {
   "cell_type": "code",
   "execution_count": null,
   "metadata": {},
   "outputs": [],
   "source": [
    "# %load solutions/pandas.py"
   ]
  },
  {
   "cell_type": "markdown",
   "metadata": {},
   "source": [
    "So you've got the data in the notebook. Now you should do the time conversion from the `YYYY-MM-DD HH:MM:SS` format to total elapsed seconds since the beginning. Don't forget to convert the temperature values to K."
   ]
  },
  {
   "cell_type": "code",
   "execution_count": null,
   "metadata": {},
   "outputs": [],
   "source": [
    "# %load solutions/time_to_seconds.py"
   ]
  },
  {
   "cell_type": "markdown",
   "metadata": {},
   "source": [
    "To make sure we've done things right, plot the imported temperature measurements vs time. The total batch run should be slightly less than 90 hours long. Do the temperature values look ok? You can find a notebook on plotting basics in the support content folder."
   ]
  },
  {
   "cell_type": "code",
   "execution_count": null,
   "metadata": {},
   "outputs": [],
   "source": [
    "# %load solutions/plot_raw_measurements.py"
   ]
  },
  {
   "cell_type": "markdown",
   "metadata": {},
   "source": [
    "## Task 2 - Setting up the process matrices"
   ]
  },
  {
   "cell_type": "markdown",
   "metadata": {},
   "source": [
    "It is now time to write the process and measurement equations in linear state-space form. This might be easier to do by pen and paper first."
   ]
  },
  {
   "cell_type": "code",
   "execution_count": null,
   "metadata": {},
   "outputs": [],
   "source": []
  },
  {
   "cell_type": "markdown",
   "metadata": {},
   "source": [
    "### State-to-state matrix or process matrix"
   ]
  },
  {
   "cell_type": "code",
   "execution_count": null,
   "metadata": {},
   "outputs": [],
   "source": []
  },
  {
   "cell_type": "markdown",
   "metadata": {},
   "source": [
    "### Input-to-state matrix\n",
    "\n",
    "For the moment let's just neglect all of the inputs. While this is physically incorrect it simplifies things and helps us focus on the Kalman filter. Simply fill the input-to-state matrix $B$ with zeros and put zeros in the input vector $u$. You can use the numpy function `np.zeros()` to do this (or just insert the values one by one)."
   ]
  },
  {
   "cell_type": "code",
   "execution_count": null,
   "metadata": {},
   "outputs": [],
   "source": [
    "# %load solutions/input_to_state.py"
   ]
  },
  {
   "cell_type": "markdown",
   "metadata": {},
   "source": [
    "### Measurement matrix\n",
    "\n",
    "Assume for the moment you have a single temperature sensor $T_1$. The measurement equations is given by $$ y = Cx,$$ where $x = \\begin{bmatrix}T & T_j\\end{bmatrix}^T$ for our simple example. Fill in the values of $C$."
   ]
  },
  {
   "cell_type": "code",
   "execution_count": null,
   "metadata": {},
   "outputs": [],
   "source": [
    "# %load solutions/measurement_matrix.py"
   ]
  },
  {
   "cell_type": "markdown",
   "metadata": {},
   "source": [
    "### Process and measurement noise\n",
    "\n",
    "Something we haven't discussed yet is the role of noise in the Kalman filter. \n",
    "\n",
    "The measurement noise is fairly understandable. We assume at each measurement update, that our sensor was perturbed by white noise according to the sensor variance."
   ]
  },
  {
   "cell_type": "markdown",
   "metadata": {},
   "source": [
    "## Task 3 - Implementing the Kalman filter"
   ]
  },
  {
   "cell_type": "code",
   "execution_count": null,
   "metadata": {},
   "outputs": [],
   "source": [
    "# %load solutions/kalman_filter.py\n",
    "def predict(x,u,A,B,P,Q):\n",
    "    \"\"\"\n",
    "    Prediction step of the Kalman filter\n",
    "    \n",
    "    Input:\n",
    "    x - state vector\n",
    "    u - input vector\n",
    "    A - process matrix\n",
    "    B - input-to-state matrix\n",
    "    P - state covariance matrix\n",
    "    Q - evolution noise\n",
    "    \n",
    "    Returns:\n",
    "    x - predicted state\n",
    "    P - predicted covariance\n",
    "    \"\"\"\n",
    "    return NotImplementedError()\n",
    "\n",
    "def update(y,xpls,C,P,R):\n",
    "    \"\"\"\n",
    "    Update step of the Kalman filter\n",
    "    \n",
    "    Input:\n",
    "    y - measurement\n",
    "    xpls - predicted state\n",
    "    C - measurement matrix\n",
    "    P - covariance matrix\n",
    "    R - measurement noise\n",
    "    \n",
    "    Returns:\n",
    "    x - updated step after measurement\n",
    "    P - updated covariance\n",
    "    K - Kalman gain\n",
    "    \"\"\"\n",
    "    return NotImplementedError()"
   ]
  },
  {
   "cell_type": "markdown",
   "metadata": {},
   "source": [
    "## Task 4 - Filtering the measurement data"
   ]
  },
  {
   "cell_type": "code",
   "execution_count": null,
   "metadata": {},
   "outputs": [],
   "source": []
  },
  {
   "cell_type": "markdown",
   "metadata": {},
   "source": [
    "## Task 5 - Adding the additional temperature sensors"
   ]
  },
  {
   "cell_type": "code",
   "execution_count": null,
   "metadata": {},
   "outputs": [],
   "source": []
  }
 ],
 "metadata": {
  "kernelspec": {
   "display_name": "Python 3",
   "language": "python",
   "name": "python3"
  },
  "language_info": {
   "codemirror_mode": {
    "name": "ipython",
    "version": 3
   },
   "file_extension": ".py",
   "mimetype": "text/x-python",
   "name": "python",
   "nbconvert_exporter": "python",
   "pygments_lexer": "ipython3",
   "version": "3.6.7"
  }
 },
 "nbformat": 4,
 "nbformat_minor": 2
}
