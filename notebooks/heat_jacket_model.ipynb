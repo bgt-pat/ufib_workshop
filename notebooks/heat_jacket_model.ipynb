{
 "cells": [
  {
   "cell_type": "code",
   "execution_count": 1,
   "metadata": {},
   "outputs": [],
   "source": [
    "import numpy as np\n",
    "import matplotlib.pyplot as plt\n",
    "from scipy.integrate import solve_ivp\n",
    "%matplotlib inline"
   ]
  },
  {
   "cell_type": "code",
   "execution_count": 2,
   "metadata": {},
   "outputs": [],
   "source": [
    "from sympy import *"
   ]
  },
  {
   "cell_type": "code",
   "execution_count": 10,
   "metadata": {},
   "outputs": [],
   "source": [
    "mu, k, uv, kj, a = symbols(r'\\mu k u_\\mathrm{v} k_\\mathrm{j} \\alpha')"
   ]
  },
  {
   "cell_type": "code",
   "execution_count": 11,
   "metadata": {},
   "outputs": [],
   "source": [
    "init_printing(use_latex=True)"
   ]
  },
  {
   "cell_type": "code",
   "execution_count": 12,
   "metadata": {},
   "outputs": [],
   "source": [
    "A = Matrix([[-mu*k, mu*k*a],[kj/a, -(kj+uv)]])"
   ]
  },
  {
   "cell_type": "code",
   "execution_count": 13,
   "metadata": {},
   "outputs": [
    {
     "data": {
      "image/png": "[encoded data removed]",
      "text/latex": [
       "$$\\left[\\begin{matrix}- \\mu k & \\alpha \\mu k\\\\\\frac{k_\\mathrm{j}}{\\alpha} & - k_\\mathrm{j} - u_\\mathrm{v}\\end{matrix}\\right]$$"
      ],
      "text/plain": [
       "⎡   -\\mu⋅k             \\alpha⋅\\mu⋅k        ⎤\n",
       "⎢                                          ⎥\n",
       "⎢k_\\mathrm{j}                              ⎥\n",
       "⎢────────────  -k_\\mathrm{j} - u_\\mathrm{v}⎥\n",
       "⎣   \\alpha                                 ⎦"
      ]
     },
     "execution_count": 13,
     "metadata": {},
     "output_type": "execute_result"
    }
   ],
   "source": [
    "A"
   ]
  },
  {
   "cell_type": "code",
   "execution_count": 14,
   "metadata": {},
   "outputs": [
    {
     "data": {
      "image/png": "[encoded data removed]",
      "text/latex": [
       "$$- \\mu k k_\\mathrm{j} - \\mu k \\left(- k_\\mathrm{j} - u_\\mathrm{v}\\right)$$"
      ],
      "text/plain": [
       "-\\mu⋅k⋅k_\\mathrm{j} - \\mu⋅k⋅(-k_\\mathrm{j} - u_\\mathrm{v})"
      ]
     },
     "execution_count": 14,
     "metadata": {},
     "output_type": "execute_result"
    }
   ],
   "source": [
    "A.det()"
   ]
  },
  {
   "cell_type": "code",
   "execution_count": 15,
   "metadata": {},
   "outputs": [
    {
     "data": {
      "image/png": "[encoded data removed]",
      "text/latex": [
       "$$\\left \\{ - \\frac{\\mu k}{2} - \\frac{k_\\mathrm{j}}{2} - \\frac{u_\\mathrm{v}}{2} - \\frac{\\sqrt{\\mu^{2} k^{2} + 2 \\mu k k_\\mathrm{j} - 2 \\mu k u_\\mathrm{v} + k_\\mathrm{j}^{2} + 2 k_\\mathrm{j} u_\\mathrm{v} + u_\\mathrm{v}^{2}}}{2} : 1, \\quad - \\frac{\\mu k}{2} - \\frac{k_\\mathrm{j}}{2} - \\frac{u_\\mathrm{v}}{2} + \\frac{\\sqrt{\\mu^{2} k^{2} + 2 \\mu k k_\\mathrm{j} - 2 \\mu k u_\\mathrm{v} + k_\\mathrm{j}^{2} + 2 k_\\mathrm{j} u_\\mathrm{v} + u_\\mathrm{v}^{2}}}{2} : 1\\right \\}$$"
      ],
      "text/plain": [
       "⎧                                           __________________________________\n",
       "⎪                                          ╱    2  2                          \n",
       "⎨  \\mu⋅k   k_\\mathrm{j}   u_\\mathrm{v}   ╲╱  \\mu ⋅k  + 2⋅\\mu⋅k⋅k_\\mathrm{j} - \n",
       "⎪- ───── - ──────────── - ──────────── - ─────────────────────────────────────\n",
       "⎩    2          2              2                                              \n",
       "\n",
       "______________________________________________________________________________\n",
       "                                   2                                          \n",
       "2⋅\\mu⋅k⋅u_\\mathrm{v} + k_\\mathrm{j}  + 2⋅k_\\mathrm{j}⋅u_\\mathrm{v} + u_\\mathrm\n",
       "──────────────────────────────────────────────────────────────────────────────\n",
       "                      2                                                       \n",
       "\n",
       "_____                                                _________________________\n",
       "   2                                                ╱    2  2                 \n",
       "{v}         \\mu⋅k   k_\\mathrm{j}   u_\\mathrm{v}   ╲╱  \\mu ⋅k  + 2⋅\\mu⋅k⋅k_\\mat\n",
       "─────: 1, - ───── - ──────────── - ──────────── + ────────────────────────────\n",
       "              2          2              2                                     \n",
       "\n",
       "______________________________________________________________________________\n",
       "                                            2                                 \n",
       "hrm{j} - 2⋅\\mu⋅k⋅u_\\mathrm{v} + k_\\mathrm{j}  + 2⋅k_\\mathrm{j}⋅u_\\mathrm{v} + \n",
       "──────────────────────────────────────────────────────────────────────────────\n",
       "                               2                                              \n",
       "\n",
       "______________   ⎫\n",
       "            2    ⎪\n",
       "u_\\mathrm{v}     ⎬\n",
       "──────────────: 1⎪\n",
       "                 ⎭"
      ]
     },
     "execution_count": 15,
     "metadata": {},
     "output_type": "execute_result"
    }
   ],
   "source": [
    "A.eigenvals()"
   ]
  },
  {
   "cell_type": "code",
   "execution_count": 16,
   "metadata": {},
   "outputs": [
    {
     "data": {
      "image/png": "[encoded data removed]",
      "text/latex": [
       "$$\\left [ \\left ( - \\frac{\\mu k}{2} - \\frac{k_\\mathrm{j}}{2} - \\frac{u_\\mathrm{v}}{2} - \\frac{\\sqrt{\\mu^{2} k^{2} + 2 \\mu k k_\\mathrm{j} - 2 \\mu k u_\\mathrm{v} + k_\\mathrm{j}^{2} + 2 k_\\mathrm{j} u_\\mathrm{v} + u_\\mathrm{v}^{2}}}{2}, \\quad 1, \\quad \\left [ \\left[\\begin{matrix}- \\frac{\\alpha \\mu k}{- \\frac{\\mu k}{2} + \\frac{k_\\mathrm{j}}{2} + \\frac{u_\\mathrm{v}}{2} + \\frac{\\sqrt{\\mu^{2} k^{2} + 2 \\mu k k_\\mathrm{j} - 2 \\mu k u_\\mathrm{v} + k_\\mathrm{j}^{2} + 2 k_\\mathrm{j} u_\\mathrm{v} + u_\\mathrm{v}^{2}}}{2}}\\\\1\\end{matrix}\\right]\\right ]\\right ), \\quad \\left ( - \\frac{\\mu k}{2} - \\frac{k_\\mathrm{j}}{2} - \\frac{u_\\mathrm{v}}{2} + \\frac{\\sqrt{\\mu^{2} k^{2} + 2 \\mu k k_\\mathrm{j} - 2 \\mu k u_\\mathrm{v} + k_\\mathrm{j}^{2} + 2 k_\\mathrm{j} u_\\mathrm{v} + u_\\mathrm{v}^{2}}}{2}, \\quad 1, \\quad \\left [ \\left[\\begin{matrix}- \\frac{\\alpha \\mu k}{- \\frac{\\mu k}{2} + \\frac{k_\\mathrm{j}}{2} + \\frac{u_\\mathrm{v}}{2} - \\frac{\\sqrt{\\mu^{2} k^{2} + 2 \\mu k k_\\mathrm{j} - 2 \\mu k u_\\mathrm{v} + k_\\mathrm{j}^{2} + 2 k_\\mathrm{j} u_\\mathrm{v} + u_\\mathrm{v}^{2}}}{2}}\\\\1\\end{matrix}\\right]\\right ]\\right )\\right ]$$"
      ],
      "text/plain": [
       "⎡⎛                                                                            \n",
       "⎢⎜                                           _________________________________\n",
       "⎢⎜                                          ╱    2  2                         \n",
       "⎢⎜  \\mu⋅k   k_\\mathrm{j}   u_\\mathrm{v}   ╲╱  \\mu ⋅k  + 2⋅\\mu⋅k⋅k_\\mathrm{j} -\n",
       "⎢⎜- ───── - ──────────── - ──────────── - ────────────────────────────────────\n",
       "⎢⎜    2          2              2                                             \n",
       "⎢⎜                                                                            \n",
       "⎢⎜                                                                            \n",
       "⎣⎝                                                                            \n",
       "\n",
       "                                                                              \n",
       "______________________________________________________________________________\n",
       "                                    2                                         \n",
       " 2⋅\\mu⋅k⋅u_\\mathrm{v} + k_\\mathrm{j}  + 2⋅k_\\mathrm{j}⋅u_\\mathrm{v} + u_\\mathr\n",
       "──────────────────────────────────────────────────────────────────────────────\n",
       "                       2                                                      \n",
       "                                                                              \n",
       "                                                                              \n",
       "                                                                              \n",
       "\n",
       "           ⎡⎡                                                                 \n",
       "______     ⎢⎢─────────────────────────────────────────────────────────────────\n",
       "    2      ⎢⎢                                           ______________________\n",
       "m{v}       ⎢⎢                                          ╱    2  2              \n",
       "──────, 1, ⎢⎢  \\mu⋅k   k_\\mathrm{j}   u_\\mathrm{v}   ╲╱  \\mu ⋅k  + 2⋅\\mu⋅k⋅k_\\\n",
       "           ⎢⎢- ───── + ──────────── + ──────────── + ─────────────────────────\n",
       "           ⎢⎢    2          2              2                                  \n",
       "           ⎢⎢                                                                 \n",
       "           ⎣⎣                                                                 \n",
       "\n",
       "        -\\alpha⋅\\mu⋅k                                                         \n",
       "──────────────────────────────────────────────────────────────────────────────\n",
       "______________________________________________________________________________\n",
       "                                               2                              \n",
       "mathrm{j} - 2⋅\\mu⋅k⋅u_\\mathrm{v} + k_\\mathrm{j}  + 2⋅k_\\mathrm{j}⋅u_\\mathrm{v}\n",
       "──────────────────────────────────────────────────────────────────────────────\n",
       "                                  2                                           \n",
       "                                                                              \n",
       "              1                                                               \n",
       "\n",
       "                 ⎤⎤⎞  ⎛                                                       \n",
       "─────────────────⎥⎥⎟  ⎜                                           ____________\n",
       "_________________⎥⎥⎟  ⎜                                          ╱    2  2    \n",
       "               2 ⎥⎥⎟  ⎜  \\mu⋅k   k_\\mathrm{j}   u_\\mathrm{v}   ╲╱  \\mu ⋅k  + 2\n",
       " + u_\\mathrm{v}  ⎥⎥⎟, ⎜- ───── - ──────────── - ──────────── + ───────────────\n",
       "─────────────────⎥⎥⎟  ⎜    2          2              2                        \n",
       "                 ⎥⎥⎟  ⎜                                                       \n",
       "                 ⎥⎥⎟  ⎜                                                       \n",
       "                 ⎦⎦⎠  ⎝                                                       \n",
       "\n",
       "                                                                              \n",
       "______________________________________________________________________________\n",
       "                                                         2                    \n",
       "⋅\\mu⋅k⋅k_\\mathrm{j} - 2⋅\\mu⋅k⋅u_\\mathrm{v} + k_\\mathrm{j}  + 2⋅k_\\mathrm{j}⋅u_\n",
       "──────────────────────────────────────────────────────────────────────────────\n",
       "                                            2                                 \n",
       "                                                                              \n",
       "                                                                              \n",
       "                                                                              \n",
       "\n",
       "                                ⎡⎡                                            \n",
       "___________________________     ⎢⎢────────────────────────────────────────────\n",
       "                         2      ⎢⎢                                           _\n",
       "\\mathrm{v} + u_\\mathrm{v}       ⎢⎢                                          ╱ \n",
       "───────────────────────────, 1, ⎢⎢  \\mu⋅k   k_\\mathrm{j}   u_\\mathrm{v}   ╲╱  \n",
       "                                ⎢⎢- ───── + ──────────── + ──────────── - ────\n",
       "                                ⎢⎢    2          2              2             \n",
       "                                ⎢⎢                                            \n",
       "                                ⎣⎣                                            \n",
       "\n",
       "                             -\\alpha⋅\\mu⋅k                                    \n",
       "──────────────────────────────────────────────────────────────────────────────\n",
       "______________________________________________________________________________\n",
       "   2  2                                                             2         \n",
       "\\mu ⋅k  + 2⋅\\mu⋅k⋅k_\\mathrm{j} - 2⋅\\mu⋅k⋅u_\\mathrm{v} + k_\\mathrm{j}  + 2⋅k_\\m\n",
       "──────────────────────────────────────────────────────────────────────────────\n",
       "                                                       2                      \n",
       "                                                                              \n",
       "                                   1                                          \n",
       "\n",
       "                                      ⎤⎤⎞⎤\n",
       "──────────────────────────────────────⎥⎥⎟⎥\n",
       "______________________________________⎥⎥⎟⎥\n",
       "                                    2 ⎥⎥⎟⎥\n",
       "athrm{j}⋅u_\\mathrm{v} + u_\\mathrm{v}  ⎥⎥⎟⎥\n",
       "──────────────────────────────────────⎥⎥⎟⎥\n",
       "                                      ⎥⎥⎟⎥\n",
       "                                      ⎥⎥⎟⎥\n",
       "                                      ⎦⎦⎠⎦"
      ]
     },
     "execution_count": 16,
     "metadata": {},
     "output_type": "execute_result"
    }
   ],
   "source": [
    "A.eigenvects()"
   ]
  },
  {
   "cell_type": "code",
   "execution_count": 17,
   "metadata": {},
   "outputs": [],
   "source": [
    "P, D = A.diagonalize()"
   ]
  },
  {
   "cell_type": "code",
   "execution_count": 18,
   "metadata": {},
   "outputs": [
    {
     "data": {
      "image/png": "[encoded data removed]",
      "text/latex": [
       "$$\\left[\\begin{matrix}\\frac{2 \\alpha \\mu k}{\\mu k - k_\\mathrm{j} - u_\\mathrm{v} - \\sqrt{\\mu^{2} k^{2} + 2 \\mu k k_\\mathrm{j} - 2 \\mu k u_\\mathrm{v} + k_\\mathrm{j}^{2} + 2 k_\\mathrm{j} u_\\mathrm{v} + u_\\mathrm{v}^{2}}} & \\frac{2 \\alpha \\mu k}{\\mu k - k_\\mathrm{j} - u_\\mathrm{v} + \\sqrt{\\mu^{2} k^{2} + 2 \\mu k k_\\mathrm{j} - 2 \\mu k u_\\mathrm{v} + k_\\mathrm{j}^{2} + 2 k_\\mathrm{j} u_\\mathrm{v} + u_\\mathrm{v}^{2}}}\\\\1 & 1\\end{matrix}\\right]$$"
      ],
      "text/plain": [
       "⎡                                                                        2⋅\\al\n",
       "⎢─────────────────────────────────────────────────────────────────────────────\n",
       "⎢                                         ____________________________________\n",
       "⎢                                        ╱    2  2                            \n",
       "⎢\\mu⋅k - k_\\mathrm{j} - u_\\mathrm{v} - ╲╱  \\mu ⋅k  + 2⋅\\mu⋅k⋅k_\\mathrm{j} - 2⋅\n",
       "⎢                                                                             \n",
       "⎣                                                                             \n",
       "\n",
       "pha⋅\\mu⋅k                                                                     \n",
       "──────────────────────────────────────────────────────────────────────────────\n",
       "______________________________________________________________________________\n",
       "                                 2                                            \n",
       "\\mu⋅k⋅u_\\mathrm{v} + k_\\mathrm{j}  + 2⋅k_\\mathrm{j}⋅u_\\mathrm{v} + u_\\mathrm{v\n",
       "                                                                              \n",
       " 1                                                                            \n",
       "\n",
       "                                                                             2\n",
       "───  ─────────────────────────────────────────────────────────────────────────\n",
       "___                                           ________________________________\n",
       " 2                                           ╱    2  2                        \n",
       "}    \\mu⋅k - k_\\mathrm{j} - u_\\mathrm{v} + ╲╱  \\mu ⋅k  + 2⋅\\mu⋅k⋅k_\\mathrm{j} \n",
       "                                                                              \n",
       "                                                                              \n",
       "\n",
       "⋅\\alpha⋅\\mu⋅k                                                                 \n",
       "──────────────────────────────────────────────────────────────────────────────\n",
       "______________________________________________________________________________\n",
       "                                     2                                        \n",
       "- 2⋅\\mu⋅k⋅u_\\mathrm{v} + k_\\mathrm{j}  + 2⋅k_\\mathrm{j}⋅u_\\mathrm{v} + u_\\math\n",
       "                                                                              \n",
       "     1                                                                        \n",
       "\n",
       "       ⎤\n",
       "───────⎥\n",
       "_______⎥\n",
       "     2 ⎥\n",
       "rm{v}  ⎥\n",
       "       ⎥\n",
       "       ⎦"
      ]
     },
     "execution_count": 18,
     "metadata": {},
     "output_type": "execute_result"
    }
   ],
   "source": [
    "P"
   ]
  },
  {
   "cell_type": "code",
   "execution_count": 19,
   "metadata": {},
   "outputs": [
    {
     "data": {
      "image/png": "[encoded data removed]",
      "text/latex": [
       "$$\\left[\\begin{matrix}- \\frac{\\mu k}{2} - \\frac{k_\\mathrm{j}}{2} - \\frac{u_\\mathrm{v}}{2} - \\frac{\\sqrt{\\mu^{2} k^{2} + 2 \\mu k k_\\mathrm{j} - 2 \\mu k u_\\mathrm{v} + k_\\mathrm{j}^{2} + 2 k_\\mathrm{j} u_\\mathrm{v} + u_\\mathrm{v}^{2}}}{2} & 0\\\\0 & - \\frac{\\mu k}{2} - \\frac{k_\\mathrm{j}}{2} - \\frac{u_\\mathrm{v}}{2} + \\frac{\\sqrt{\\mu^{2} k^{2} + 2 \\mu k k_\\mathrm{j} - 2 \\mu k u_\\mathrm{v} + k_\\mathrm{j}^{2} + 2 k_\\mathrm{j} u_\\mathrm{v} + u_\\mathrm{v}^{2}}}{2}\\end{matrix}\\right]$$"
      ],
      "text/plain": [
       "⎡                                           __________________________________\n",
       "⎢                                          ╱    2  2                          \n",
       "⎢  \\mu⋅k   k_\\mathrm{j}   u_\\mathrm{v}   ╲╱  \\mu ⋅k  + 2⋅\\mu⋅k⋅k_\\mathrm{j} - \n",
       "⎢- ───── - ──────────── - ──────────── - ─────────────────────────────────────\n",
       "⎢    2          2              2                                              \n",
       "⎢                                                                             \n",
       "⎢                                                                             \n",
       "⎢                                                                             \n",
       "⎢                                                                             \n",
       "⎢                                                                             \n",
       "⎣                                                                             \n",
       "\n",
       "______________________________________________________________________________\n",
       "                                   2                                          \n",
       "2⋅\\mu⋅k⋅u_\\mathrm{v} + k_\\mathrm{j}  + 2⋅k_\\mathrm{j}⋅u_\\mathrm{v} + u_\\mathrm\n",
       "──────────────────────────────────────────────────────────────────────────────\n",
       "                      2                                                       \n",
       "                                                                              \n",
       "                                                                              \n",
       "                                                                              \n",
       "                                                                              \n",
       "  0                                                                           \n",
       "                                                                              \n",
       "\n",
       "_____                                                                         \n",
       "   2                                                                          \n",
       "{v}                                                                           \n",
       "─────                                                                         \n",
       "                                                                              \n",
       "                                                                              \n",
       "                                                  ____________________________\n",
       "                                                 ╱    2  2                    \n",
       "         \\mu⋅k   k_\\mathrm{j}   u_\\mathrm{v}   ╲╱  \\mu ⋅k  + 2⋅\\mu⋅k⋅k_\\mathrm\n",
       "       - ───── - ──────────── - ──────────── + ───────────────────────────────\n",
       "           2          2              2                                        \n",
       "\n",
       "                                                                              \n",
       "                                                                              \n",
       "                                                                              \n",
       "        0                                                                     \n",
       "                                                                              \n",
       "                                                                              \n",
       "______________________________________________________________________________\n",
       "                                         2                                    \n",
       "{j} - 2⋅\\mu⋅k⋅u_\\mathrm{v} + k_\\mathrm{j}  + 2⋅k_\\mathrm{j}⋅u_\\mathrm{v} + u_\\\n",
       "──────────────────────────────────────────────────────────────────────────────\n",
       "                            2                                                 \n",
       "\n",
       "           ⎤\n",
       "           ⎥\n",
       "           ⎥\n",
       "           ⎥\n",
       "           ⎥\n",
       "           ⎥\n",
       "___________⎥\n",
       "         2 ⎥\n",
       "mathrm{v}  ⎥\n",
       "───────────⎥\n",
       "           ⎦"
      ]
     },
     "execution_count": 19,
     "metadata": {},
     "output_type": "execute_result"
    }
   ],
   "source": [
    "D"
   ]
  },
  {
   "cell_type": "code",
   "execution_count": 24,
   "metadata": {},
   "outputs": [
    {
     "data": {
      "text/plain": [
       "True"
      ]
     },
     "execution_count": 24,
     "metadata": {},
     "output_type": "execute_result"
    }
   ],
   "source": [
    "simplify(P*D*P**-1) == A"
   ]
  },
  {
   "cell_type": "code",
   "execution_count": 31,
   "metadata": {},
   "outputs": [
    {
     "data": {
      "image/png": "[encoded data removed]",
      "text/latex": [
       "$$2$$"
      ],
      "text/plain": [
       "2"
      ]
     },
     "execution_count": 31,
     "metadata": {},
     "output_type": "execute_result"
    }
   ],
   "source": [
    "A.rank()\n"
   ]
  },
  {
   "cell_type": "code",
   "execution_count": 34,
   "metadata": {},
   "outputs": [
    {
     "ename": "AttributeError",
     "evalue": "'list' object has no attribute 'dot'",
     "output_type": "error",
     "traceback": [
      "\u001b[1;31m---------------------------------------------------------------------------\u001b[0m",
      "\u001b[1;31mAttributeError\u001b[0m                            Traceback (most recent call last)",
      "\u001b[1;32m<ipython-input-34-3d8b77a08836>\u001b[0m in \u001b[0;36m<module>\u001b[1;34m\u001b[0m\n\u001b[1;32m----> 1\u001b[1;33m \u001b[0mM\u001b[0m \u001b[1;33m=\u001b[0m \u001b[0mMatrix\u001b[0m\u001b[1;33m(\u001b[0m\u001b[1;33m[\u001b[0m\u001b[1;33m[\u001b[0m\u001b[1;36m1\u001b[0m\u001b[1;33m,\u001b[0m\u001b[1;36m0\u001b[0m\u001b[1;33m]\u001b[0m\u001b[1;33m,\u001b[0m\u001b[1;33m[\u001b[0m\u001b[1;36m1\u001b[0m\u001b[1;33m,\u001b[0m\u001b[1;36m0\u001b[0m\u001b[1;33m]\u001b[0m\u001b[1;33m.\u001b[0m\u001b[0mdot\u001b[0m\u001b[1;33m(\u001b[0m\u001b[0mA\u001b[0m\u001b[1;33m)\u001b[0m\u001b[1;33m]\u001b[0m\u001b[1;33m)\u001b[0m\u001b[1;33m\u001b[0m\u001b[1;33m\u001b[0m\u001b[0m\n\u001b[0m",
      "\u001b[1;31mAttributeError\u001b[0m: 'list' object has no attribute 'dot'"
     ]
    }
   ],
   "source": [
    "M = Matrix([[1,0],[1,0].dot(A)])"
   ]
  },
  {
   "cell_type": "code",
   "execution_count": 60,
   "metadata": {},
   "outputs": [],
   "source": [
    "C = Matrix([[1,0],[0,1]]).T"
   ]
  },
  {
   "cell_type": "code",
   "execution_count": 61,
   "metadata": {},
   "outputs": [
    {
     "data": {
      "image/png": "[encoded data removed]",
      "text/latex": [
       "$$\\left[\\begin{matrix}1 & 0\\\\0 & 1\\\\- \\mu k & \\alpha \\mu k\\\\\\frac{k_\\mathrm{j}}{\\alpha} & - k_\\mathrm{j} - u_\\mathrm{v}\\end{matrix}\\right]$$"
      ],
      "text/plain": [
       "⎡     1                     0              ⎤\n",
       "⎢                                          ⎥\n",
       "⎢     0                     1              ⎥\n",
       "⎢                                          ⎥\n",
       "⎢   -\\mu⋅k             \\alpha⋅\\mu⋅k        ⎥\n",
       "⎢                                          ⎥\n",
       "⎢k_\\mathrm{j}                              ⎥\n",
       "⎢────────────  -k_\\mathrm{j} - u_\\mathrm{v}⎥\n",
       "⎣   \\alpha                                 ⎦"
      ]
     },
     "execution_count": 61,
     "metadata": {},
     "output_type": "execute_result"
    }
   ],
   "source": [
    "M = Matrix([C, C*A])\n",
    "M"
   ]
  },
  {
   "cell_type": "code",
   "execution_count": 46,
   "metadata": {},
   "outputs": [
    {
     "data": {
      "image/png": "[encoded data removed]",
      "text/latex": [
       "$$\\left[\\begin{matrix}\\mu\\\\0\\end{matrix}\\right]$$"
      ],
      "text/plain": [
       "⎡\\mu⎤\n",
       "⎢   ⎥\n",
       "⎣ 0 ⎦"
      ]
     },
     "execution_count": 46,
     "metadata": {},
     "output_type": "execute_result"
    }
   ],
   "source": [
    "B = Matrix([mu,0])\n",
    "B"
   ]
  },
  {
   "cell_type": "code",
   "execution_count": 58,
   "metadata": {},
   "outputs": [
    {
     "data": {
      "image/png": "[encoded data removed]",
      "text/latex": [
       "$$\\left[\\begin{matrix}\\mu\\\\0\\\\- \\mu^{2} k\\\\\\alpha \\mu^{2} k\\end{matrix}\\right]$$"
      ],
      "text/plain": [
       "⎡     \\mu     ⎤\n",
       "⎢             ⎥\n",
       "⎢      0      ⎥\n",
       "⎢             ⎥\n",
       "⎢       2     ⎥\n",
       "⎢   -\\mu ⋅k   ⎥\n",
       "⎢             ⎥\n",
       "⎢          2  ⎥\n",
       "⎣\\alpha⋅\\mu ⋅k⎦"
      ]
     },
     "execution_count": 58,
     "metadata": {},
     "output_type": "execute_result"
    }
   ],
   "source": [
    "Matrix([B, A*B])\n"
   ]
  },
  {
   "cell_type": "code",
   "execution_count": 69,
   "metadata": {},
   "outputs": [],
   "source": [
    "Mc = Matrix([B.T,(A*B).T]).T"
   ]
  },
  {
   "cell_type": "code",
   "execution_count": 70,
   "metadata": {},
   "outputs": [
    {
     "data": {
      "image/png": "[encoded data removed]",
      "text/latex": [
       "$$2$$"
      ],
      "text/plain": [
       "2"
      ]
     },
     "execution_count": 70,
     "metadata": {},
     "output_type": "execute_result"
    }
   ],
   "source": [
    "Mc.rank()"
   ]
  },
  {
   "cell_type": "code",
   "execution_count": 71,
   "metadata": {},
   "outputs": [],
   "source": [
    "A = Matrix([[-mu*k, mu*k*a, mu],[kj/a, -(kj+uv), 0], [0,0,1]])"
   ]
  },
  {
   "cell_type": "code",
   "execution_count": 72,
   "metadata": {},
   "outputs": [
    {
     "data": {
      "image/png": "[encoded data removed]",
      "text/latex": [
       "$$\\left[\\begin{matrix}- \\mu k & \\alpha \\mu k & \\mu\\\\\\frac{k_\\mathrm{j}}{\\alpha} & - k_\\mathrm{j} - u_\\mathrm{v} & 0\\\\0 & 0 & 1\\end{matrix}\\right]$$"
      ],
      "text/plain": [
       "⎡   -\\mu⋅k             \\alpha⋅\\mu⋅k          \\mu⎤\n",
       "⎢                                               ⎥\n",
       "⎢k_\\mathrm{j}                                   ⎥\n",
       "⎢────────────  -k_\\mathrm{j} - u_\\mathrm{v}   0 ⎥\n",
       "⎢   \\alpha                                      ⎥\n",
       "⎢                                               ⎥\n",
       "⎣     0                     0                 1 ⎦"
      ]
     },
     "execution_count": 72,
     "metadata": {},
     "output_type": "execute_result"
    }
   ],
   "source": [
    "A"
   ]
  },
  {
   "cell_type": "code",
   "execution_count": 113,
   "metadata": {},
   "outputs": [
    {
     "data": {
      "image/png": "[encoded data removed]",
      "text/latex": [
       "$$\\left[\\begin{matrix}0\\\\1\\\\0\\end{matrix}\\right]$$"
      ],
      "text/plain": [
       "⎡0⎤\n",
       "⎢ ⎥\n",
       "⎢1⎥\n",
       "⎢ ⎥\n",
       "⎣0⎦"
      ]
     },
     "execution_count": 113,
     "metadata": {},
     "output_type": "execute_result"
    }
   ],
   "source": [
    "#C = Matrix([[1,0,0],[0,1,0]])\n",
    "C = Matrix([0,1,0])\n",
    "#C = Matrix([[1,0,0],[0,1,0]])\n",
    "C"
   ]
  },
  {
   "cell_type": "code",
   "execution_count": 114,
   "metadata": {},
   "outputs": [
    {
     "data": {
      "image/png": "[encoded data removed]",
      "text/latex": [
       "$$\\left[\\begin{matrix}0 & 1 & 0\\\\\\frac{k_\\mathrm{j}}{\\alpha} & - k_\\mathrm{j} - u_\\mathrm{v} & 0\\\\- \\frac{\\mu k k_\\mathrm{j}}{\\alpha} + \\frac{k_\\mathrm{j} \\left(- k_\\mathrm{j} - u_\\mathrm{v}\\right)}{\\alpha} & \\mu k k_\\mathrm{j} + \\left(- k_\\mathrm{j} - u_\\mathrm{v}\\right)^{2} & \\frac{\\mu k_\\mathrm{j}}{\\alpha}\\end{matrix}\\right]$$"
      ],
      "text/plain": [
       "⎡                                0                                            \n",
       "⎢                                                                             \n",
       "⎢                           k_\\mathrm{j}                                      \n",
       "⎢                           ────────────                                      \n",
       "⎢                              \\alpha                                         \n",
       "⎢                                                                             \n",
       "⎢  \\mu⋅k⋅k_\\mathrm{j}   k_\\mathrm{j}⋅(-k_\\mathrm{j} - u_\\mathrm{v})           \n",
       "⎢- ────────────────── + ───────────────────────────────────────────  \\mu⋅k⋅k_\\\n",
       "⎣        \\alpha                            \\alpha                             \n",
       "\n",
       "                1                                   0        ⎤\n",
       "                                                             ⎥\n",
       "                                                             ⎥\n",
       "   -k_\\mathrm{j} - u_\\mathrm{v}                     0        ⎥\n",
       "                                                             ⎥\n",
       "                                                             ⎥\n",
       "                                          2  \\mu⋅k_\\mathrm{j}⎥\n",
       "mathrm{j} + (-k_\\mathrm{j} - u_\\mathrm{v})   ────────────────⎥\n",
       "                                                  \\alpha     ⎦"
      ]
     },
     "execution_count": 114,
     "metadata": {},
     "output_type": "execute_result"
    }
   ],
   "source": [
    "#M = Matrix([C, C*A, C*A**2])\n",
    "M = Matrix([C.T, C.T*A, C.T*A**2])\n",
    "M"
   ]
  },
  {
   "cell_type": "code",
   "execution_count": 115,
   "metadata": {},
   "outputs": [
    {
     "data": {
      "image/png": "[encoded data removed]",
      "text/latex": [
       "$$3$$"
      ],
      "text/plain": [
       "3"
      ]
     },
     "execution_count": 115,
     "metadata": {},
     "output_type": "execute_result"
    }
   ],
   "source": [
    "M.rank()"
   ]
  },
  {
   "cell_type": "code",
   "execution_count": null,
   "metadata": {},
   "outputs": [],
   "source": []
  }
 ],
 "metadata": {
  "kernelspec": {
   "display_name": "Python 3",
   "language": "python",
   "name": "python3"
  },
  "language_info": {
   "codemirror_mode": {
    "name": "ipython",
    "version": 3
   },
   "file_extension": ".py",
   "mimetype": "text/x-python",
   "name": "python",
   "nbconvert_exporter": "python",
   "pygments_lexer": "ipython3",
   "version": "3.6.7"
  }
 },
 "nbformat": 4,
 "nbformat_minor": 2
}
