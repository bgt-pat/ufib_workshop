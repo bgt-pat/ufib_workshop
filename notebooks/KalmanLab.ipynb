{
 "cells": [
  {
   "cell_type": "code",
   "execution_count": null,
   "metadata": {},
   "outputs": [],
   "source": [
    "%matplotlib inline\n",
    "import numpy as np\n",
    "import matplotlib.pyplot as plt"
   ]
  },
  {
   "cell_type": "markdown",
   "metadata": {},
   "source": [
    "The variance of the individual temperature sensors is:\n",
    "\n",
    "t1 = 1.63537548 t2 = 0.13440874 t3 = 0.12293816\n",
    "\n",
    "the temperature sensor 1 does actually suffer from failure, hence the large number."
   ]
  },
  {
   "cell_type": "code",
   "execution_count": null,
   "metadata": {},
   "outputs": [],
   "source": [
    "def Predict(x, u, A, B, Q):\n",
    "    xpls = A.dot(x) + B.dot(u)\n",
    "    P = A.dot(P).dot(A.T) + Q\n",
    "    return xpls, P\n",
    "\n",
    "\n",
    "def Update(measurements, xpls, K, P, C, R):\n",
    "    K = P.dot(C).dot(np.linalg.pinv(C.dot(P).dot(C) + R))\n",
    "    # Update estimate via measurement\n",
    "    x = xpls + K.dot(measurements - C.dot(xpls))\n",
    "    # Update error covariance\n",
    "    P = P - K.dot(C).dot(P)"
   ]
  }
 ],
 "metadata": {
  "kernelspec": {
   "display_name": "Python 3",
   "language": "python",
   "name": "python3"
  },
  "language_info": {
   "codemirror_mode": {
    "name": "ipython",
    "version": 3
   },
   "file_extension": ".py",
   "mimetype": "text/x-python",
   "name": "python",
   "nbconvert_exporter": "python",
   "pygments_lexer": "ipython3",
   "version": "3.6.7"
  }
 },
 "nbformat": 4,
 "nbformat_minor": 2
}
